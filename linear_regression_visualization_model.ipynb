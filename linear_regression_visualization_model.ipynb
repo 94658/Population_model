{
 "cells": [
  {
   "cell_type": "code",
   "execution_count": 1,
   "metadata": {},
   "outputs": [],
   "source": [
    "import pandas as pd"
   ]
  },
  {
   "cell_type": "code",
   "execution_count": 2,
   "metadata": {},
   "outputs": [],
   "source": [
    "import numpy as np  #for mathematical calculations\n",
    "import matplotlib.pyplot as plt  #for plotting"
   ]
  },
  {
   "cell_type": "code",
   "execution_count": 3,
   "metadata": {},
   "outputs": [],
   "source": [
    "dataset = pd.read_csv(\"California_cities.csv\")"
   ]
  },
  {
   "cell_type": "code",
   "execution_count": 4,
   "metadata": {},
   "outputs": [
    {
     "data": {
      "text/html": [
       "<div>\n",
       "<style scoped>\n",
       "    .dataframe tbody tr th:only-of-type {\n",
       "        vertical-align: middle;\n",
       "    }\n",
       "\n",
       "    .dataframe tbody tr th {\n",
       "        vertical-align: top;\n",
       "    }\n",
       "\n",
       "    .dataframe thead th {\n",
       "        text-align: right;\n",
       "    }\n",
       "</style>\n",
       "<table border=\"1\" class=\"dataframe\">\n",
       "  <thead>\n",
       "    <tr style=\"text-align: right;\">\n",
       "      <th></th>\n",
       "      <th>Unnamed: 0</th>\n",
       "      <th>city</th>\n",
       "      <th>latd</th>\n",
       "      <th>longd</th>\n",
       "      <th>elevation_m</th>\n",
       "      <th>elevation_ft</th>\n",
       "      <th>population_total</th>\n",
       "      <th>area_total_sq_mi</th>\n",
       "      <th>area_land_sq_mi</th>\n",
       "      <th>area_water_sq_mi</th>\n",
       "      <th>area_total_km2</th>\n",
       "      <th>area_land_km2</th>\n",
       "      <th>area_water_km2</th>\n",
       "      <th>area_water_percent</th>\n",
       "    </tr>\n",
       "  </thead>\n",
       "  <tbody>\n",
       "    <tr>\n",
       "      <th>0</th>\n",
       "      <td>0</td>\n",
       "      <td>Adelanto</td>\n",
       "      <td>34.576111</td>\n",
       "      <td>-117.432778</td>\n",
       "      <td>875.0</td>\n",
       "      <td>2871.0</td>\n",
       "      <td>31765</td>\n",
       "      <td>56.027</td>\n",
       "      <td>56.009</td>\n",
       "      <td>0.018</td>\n",
       "      <td>145.107</td>\n",
       "      <td>145.062</td>\n",
       "      <td>0.046</td>\n",
       "      <td>0.03</td>\n",
       "    </tr>\n",
       "    <tr>\n",
       "      <th>1</th>\n",
       "      <td>1</td>\n",
       "      <td>AgouraHills</td>\n",
       "      <td>34.153333</td>\n",
       "      <td>-118.761667</td>\n",
       "      <td>281.0</td>\n",
       "      <td>922.0</td>\n",
       "      <td>20330</td>\n",
       "      <td>7.822</td>\n",
       "      <td>7.793</td>\n",
       "      <td>0.029</td>\n",
       "      <td>20.260</td>\n",
       "      <td>20.184</td>\n",
       "      <td>0.076</td>\n",
       "      <td>0.37</td>\n",
       "    </tr>\n",
       "    <tr>\n",
       "      <th>2</th>\n",
       "      <td>2</td>\n",
       "      <td>Alameda</td>\n",
       "      <td>37.756111</td>\n",
       "      <td>-122.274444</td>\n",
       "      <td>NaN</td>\n",
       "      <td>33.0</td>\n",
       "      <td>75467</td>\n",
       "      <td>22.960</td>\n",
       "      <td>10.611</td>\n",
       "      <td>12.349</td>\n",
       "      <td>59.465</td>\n",
       "      <td>27.482</td>\n",
       "      <td>31.983</td>\n",
       "      <td>53.79</td>\n",
       "    </tr>\n",
       "    <tr>\n",
       "      <th>3</th>\n",
       "      <td>3</td>\n",
       "      <td>Albany</td>\n",
       "      <td>37.886944</td>\n",
       "      <td>-122.297778</td>\n",
       "      <td>NaN</td>\n",
       "      <td>43.0</td>\n",
       "      <td>18969</td>\n",
       "      <td>5.465</td>\n",
       "      <td>1.788</td>\n",
       "      <td>3.677</td>\n",
       "      <td>14.155</td>\n",
       "      <td>4.632</td>\n",
       "      <td>9.524</td>\n",
       "      <td>67.28</td>\n",
       "    </tr>\n",
       "    <tr>\n",
       "      <th>4</th>\n",
       "      <td>4</td>\n",
       "      <td>Alhambra</td>\n",
       "      <td>34.081944</td>\n",
       "      <td>-118.135000</td>\n",
       "      <td>150.0</td>\n",
       "      <td>492.0</td>\n",
       "      <td>83089</td>\n",
       "      <td>7.632</td>\n",
       "      <td>7.631</td>\n",
       "      <td>0.001</td>\n",
       "      <td>19.766</td>\n",
       "      <td>19.763</td>\n",
       "      <td>0.003</td>\n",
       "      <td>0.01</td>\n",
       "    </tr>\n",
       "  </tbody>\n",
       "</table>\n",
       "</div>"
      ],
      "text/plain": [
       "   Unnamed: 0         city       latd       longd  elevation_m  elevation_ft  \\\n",
       "0           0     Adelanto  34.576111 -117.432778        875.0        2871.0   \n",
       "1           1  AgouraHills  34.153333 -118.761667        281.0         922.0   \n",
       "2           2      Alameda  37.756111 -122.274444          NaN          33.0   \n",
       "3           3       Albany  37.886944 -122.297778          NaN          43.0   \n",
       "4           4     Alhambra  34.081944 -118.135000        150.0         492.0   \n",
       "\n",
       "   population_total  area_total_sq_mi  area_land_sq_mi  area_water_sq_mi  \\\n",
       "0             31765            56.027           56.009             0.018   \n",
       "1             20330             7.822            7.793             0.029   \n",
       "2             75467            22.960           10.611            12.349   \n",
       "3             18969             5.465            1.788             3.677   \n",
       "4             83089             7.632            7.631             0.001   \n",
       "\n",
       "   area_total_km2  area_land_km2  area_water_km2  area_water_percent  \n",
       "0         145.107        145.062           0.046                0.03  \n",
       "1          20.260         20.184           0.076                0.37  \n",
       "2          59.465         27.482          31.983               53.79  \n",
       "3          14.155          4.632           9.524               67.28  \n",
       "4          19.766         19.763           0.003                0.01  "
      ]
     },
     "execution_count": 4,
     "metadata": {},
     "output_type": "execute_result"
    }
   ],
   "source": [
    "dataset.head()"
   ]
  },
  {
   "cell_type": "code",
   "execution_count": 5,
   "metadata": {},
   "outputs": [
    {
     "data": {
      "text/html": [
       "<div>\n",
       "<style scoped>\n",
       "    .dataframe tbody tr th:only-of-type {\n",
       "        vertical-align: middle;\n",
       "    }\n",
       "\n",
       "    .dataframe tbody tr th {\n",
       "        vertical-align: top;\n",
       "    }\n",
       "\n",
       "    .dataframe thead th {\n",
       "        text-align: right;\n",
       "    }\n",
       "</style>\n",
       "<table border=\"1\" class=\"dataframe\">\n",
       "  <thead>\n",
       "    <tr style=\"text-align: right;\">\n",
       "      <th></th>\n",
       "      <th>Unnamed: 0</th>\n",
       "      <th>latd</th>\n",
       "      <th>longd</th>\n",
       "      <th>elevation_m</th>\n",
       "      <th>elevation_ft</th>\n",
       "      <th>population_total</th>\n",
       "      <th>area_total_sq_mi</th>\n",
       "      <th>area_land_sq_mi</th>\n",
       "      <th>area_water_sq_mi</th>\n",
       "      <th>area_total_km2</th>\n",
       "      <th>area_land_km2</th>\n",
       "      <th>area_water_km2</th>\n",
       "      <th>area_water_percent</th>\n",
       "    </tr>\n",
       "  </thead>\n",
       "  <tbody>\n",
       "    <tr>\n",
       "      <th>count</th>\n",
       "      <td>482.000000</td>\n",
       "      <td>482.000000</td>\n",
       "      <td>482.000000</td>\n",
       "      <td>434.000000</td>\n",
       "      <td>470.000000</td>\n",
       "      <td>4.820000e+02</td>\n",
       "      <td>480.000000</td>\n",
       "      <td>482.000000</td>\n",
       "      <td>481.000000</td>\n",
       "      <td>477.000000</td>\n",
       "      <td>478.000000</td>\n",
       "      <td>478.000000</td>\n",
       "      <td>477.000000</td>\n",
       "    </tr>\n",
       "    <tr>\n",
       "      <th>mean</th>\n",
       "      <td>240.500000</td>\n",
       "      <td>36.095088</td>\n",
       "      <td>-119.837714</td>\n",
       "      <td>180.416705</td>\n",
       "      <td>567.168723</td>\n",
       "      <td>6.489493e+04</td>\n",
       "      <td>18.442183</td>\n",
       "      <td>16.840981</td>\n",
       "      <td>1.589630</td>\n",
       "      <td>46.753283</td>\n",
       "      <td>43.547021</td>\n",
       "      <td>3.125178</td>\n",
       "      <td>5.301801</td>\n",
       "    </tr>\n",
       "    <tr>\n",
       "      <th>std</th>\n",
       "      <td>139.285678</td>\n",
       "      <td>2.298006</td>\n",
       "      <td>2.147676</td>\n",
       "      <td>309.531825</td>\n",
       "      <td>1001.265722</td>\n",
       "      <td>2.032041e+05</td>\n",
       "      <td>36.363230</td>\n",
       "      <td>32.694647</td>\n",
       "      <td>9.490386</td>\n",
       "      <td>90.972269</td>\n",
       "      <td>84.933022</td>\n",
       "      <td>11.562269</td>\n",
       "      <td>14.656428</td>\n",
       "    </tr>\n",
       "    <tr>\n",
       "      <th>min</th>\n",
       "      <td>0.000000</td>\n",
       "      <td>32.578333</td>\n",
       "      <td>-124.263333</td>\n",
       "      <td>-34.000000</td>\n",
       "      <td>-180.000000</td>\n",
       "      <td>1.000000e+00</td>\n",
       "      <td>0.314000</td>\n",
       "      <td>0.314000</td>\n",
       "      <td>0.000000</td>\n",
       "      <td>0.813000</td>\n",
       "      <td>0.813000</td>\n",
       "      <td>0.000000</td>\n",
       "      <td>0.000000</td>\n",
       "    </tr>\n",
       "    <tr>\n",
       "      <th>25%</th>\n",
       "      <td>120.250000</td>\n",
       "      <td>33.977292</td>\n",
       "      <td>-121.954931</td>\n",
       "      <td>22.000000</td>\n",
       "      <td>69.000000</td>\n",
       "      <td>1.090200e+04</td>\n",
       "      <td>3.708250</td>\n",
       "      <td>3.506500</td>\n",
       "      <td>0.000000</td>\n",
       "      <td>9.551000</td>\n",
       "      <td>9.025000</td>\n",
       "      <td>0.000250</td>\n",
       "      <td>0.000000</td>\n",
       "    </tr>\n",
       "    <tr>\n",
       "      <th>50%</th>\n",
       "      <td>240.500000</td>\n",
       "      <td>36.204722</td>\n",
       "      <td>-119.708611</td>\n",
       "      <td>67.000000</td>\n",
       "      <td>200.000000</td>\n",
       "      <td>2.905750e+04</td>\n",
       "      <td>9.093000</td>\n",
       "      <td>8.362000</td>\n",
       "      <td>0.029000</td>\n",
       "      <td>23.551000</td>\n",
       "      <td>21.533000</td>\n",
       "      <td>0.078500</td>\n",
       "      <td>0.340000</td>\n",
       "    </tr>\n",
       "    <tr>\n",
       "      <th>75%</th>\n",
       "      <td>360.750000</td>\n",
       "      <td>37.886667</td>\n",
       "      <td>-117.977292</td>\n",
       "      <td>173.500000</td>\n",
       "      <td>515.000000</td>\n",
       "      <td>6.646650e+04</td>\n",
       "      <td>19.878250</td>\n",
       "      <td>19.090000</td>\n",
       "      <td>0.244000</td>\n",
       "      <td>51.772000</td>\n",
       "      <td>49.322000</td>\n",
       "      <td>0.623250</td>\n",
       "      <td>1.870000</td>\n",
       "    </tr>\n",
       "    <tr>\n",
       "      <th>max</th>\n",
       "      <td>481.000000</td>\n",
       "      <td>41.965000</td>\n",
       "      <td>-114.596389</td>\n",
       "      <td>2402.000000</td>\n",
       "      <td>7880.000000</td>\n",
       "      <td>3.884307e+06</td>\n",
       "      <td>503.000000</td>\n",
       "      <td>469.000000</td>\n",
       "      <td>185.020000</td>\n",
       "      <td>1302.000000</td>\n",
       "      <td>1214.000000</td>\n",
       "      <td>122.270000</td>\n",
       "      <td>84.580000</td>\n",
       "    </tr>\n",
       "  </tbody>\n",
       "</table>\n",
       "</div>"
      ],
      "text/plain": [
       "       Unnamed: 0        latd       longd  elevation_m  elevation_ft  \\\n",
       "count  482.000000  482.000000  482.000000   434.000000    470.000000   \n",
       "mean   240.500000   36.095088 -119.837714   180.416705    567.168723   \n",
       "std    139.285678    2.298006    2.147676   309.531825   1001.265722   \n",
       "min      0.000000   32.578333 -124.263333   -34.000000   -180.000000   \n",
       "25%    120.250000   33.977292 -121.954931    22.000000     69.000000   \n",
       "50%    240.500000   36.204722 -119.708611    67.000000    200.000000   \n",
       "75%    360.750000   37.886667 -117.977292   173.500000    515.000000   \n",
       "max    481.000000   41.965000 -114.596389  2402.000000   7880.000000   \n",
       "\n",
       "       population_total  area_total_sq_mi  area_land_sq_mi  area_water_sq_mi  \\\n",
       "count      4.820000e+02        480.000000       482.000000        481.000000   \n",
       "mean       6.489493e+04         18.442183        16.840981          1.589630   \n",
       "std        2.032041e+05         36.363230        32.694647          9.490386   \n",
       "min        1.000000e+00          0.314000         0.314000          0.000000   \n",
       "25%        1.090200e+04          3.708250         3.506500          0.000000   \n",
       "50%        2.905750e+04          9.093000         8.362000          0.029000   \n",
       "75%        6.646650e+04         19.878250        19.090000          0.244000   \n",
       "max        3.884307e+06        503.000000       469.000000        185.020000   \n",
       "\n",
       "       area_total_km2  area_land_km2  area_water_km2  area_water_percent  \n",
       "count      477.000000     478.000000      478.000000          477.000000  \n",
       "mean        46.753283      43.547021        3.125178            5.301801  \n",
       "std         90.972269      84.933022       11.562269           14.656428  \n",
       "min          0.813000       0.813000        0.000000            0.000000  \n",
       "25%          9.551000       9.025000        0.000250            0.000000  \n",
       "50%         23.551000      21.533000        0.078500            0.340000  \n",
       "75%         51.772000      49.322000        0.623250            1.870000  \n",
       "max       1302.000000    1214.000000      122.270000           84.580000  "
      ]
     },
     "execution_count": 5,
     "metadata": {},
     "output_type": "execute_result"
    }
   ],
   "source": [
    "dataset.describe()\n",
    "#type(dataset['elevation_m']) - series\n",
    "#type(dataset) - dataframe"
   ]
  },
  {
   "cell_type": "code",
   "execution_count": 6,
   "metadata": {},
   "outputs": [
    {
     "data": {
      "text/plain": [
       "Unnamed: 0             0\n",
       "city                   0\n",
       "latd                   0\n",
       "longd                  0\n",
       "elevation_m           48\n",
       "elevation_ft          12\n",
       "population_total       0\n",
       "area_total_sq_mi       2\n",
       "area_land_sq_mi        0\n",
       "area_water_sq_mi       1\n",
       "area_total_km2         5\n",
       "area_land_km2          4\n",
       "area_water_km2         4\n",
       "area_water_percent     5\n",
       "dtype: int64"
      ]
     },
     "execution_count": 6,
     "metadata": {},
     "output_type": "execute_result"
    }
   ],
   "source": [
    "dataset.isnull().sum() "
   ]
  },
  {
   "cell_type": "code",
   "execution_count": 7,
   "metadata": {},
   "outputs": [],
   "source": [
    "#The following replaces the null values of the respective columns with their mean\n",
    "dataset['elevation_m'].fillna(dataset['elevation_m'].mean(),inplace=True)\n",
    "dataset['elevation_ft'].fillna(dataset['elevation_ft'].mean(),inplace=True)\n",
    "dataset['area_total_sq_mi'].fillna(dataset['area_total_sq_mi'].mean(),inplace=True)\n",
    "dataset['area_water_sq_mi'].fillna(dataset['area_water_sq_mi'].mean(),inplace=True)\n",
    "dataset['area_total_km2'].fillna(dataset['area_total_km2'].mean(),inplace=True)\n",
    "dataset['area_land_km2'].fillna(dataset['area_land_km2'].mean(),inplace=True)\n",
    "dataset['area_water_km2'].fillna(dataset['area_water_km2'].mean(),inplace=True)\n",
    "dataset['area_water_percent'].fillna(dataset['area_water_percent'].mean(),inplace=True)"
   ]
  },
  {
   "cell_type": "code",
   "execution_count": 8,
   "metadata": {},
   "outputs": [
    {
     "data": {
      "text/plain": [
       "Unnamed: 0            0\n",
       "city                  0\n",
       "latd                  0\n",
       "longd                 0\n",
       "elevation_m           0\n",
       "elevation_ft          0\n",
       "population_total      0\n",
       "area_total_sq_mi      0\n",
       "area_land_sq_mi       0\n",
       "area_water_sq_mi      0\n",
       "area_total_km2        0\n",
       "area_land_km2         0\n",
       "area_water_km2        0\n",
       "area_water_percent    0\n",
       "dtype: int64"
      ]
     },
     "execution_count": 8,
     "metadata": {},
     "output_type": "execute_result"
    }
   ],
   "source": [
    "dataset.isnull().sum() #no null values present when checking after replacement"
   ]
  },
  {
   "cell_type": "code",
   "execution_count": 9,
   "metadata": {},
   "outputs": [],
   "source": [
    "#sorted() method returns the list of the ten lowest latd values and stored as array variable latitude_tenlastsorted\n",
    "latitude_tenlastsorted=sorted(dataset['latd'])[:10]"
   ]
  },
  {
   "cell_type": "code",
   "execution_count": 10,
   "metadata": {},
   "outputs": [
    {
     "data": {
      "text/plain": [
       "[32.57833333,\n",
       " 32.62777778,\n",
       " 32.67805556,\n",
       " 32.67805556,\n",
       " 32.67888889,\n",
       " 32.715,\n",
       " 32.74138889,\n",
       " 32.77138889,\n",
       " 32.79833333,\n",
       " 32.8]"
      ]
     },
     "execution_count": 10,
     "metadata": {},
     "output_type": "execute_result"
    }
   ],
   "source": [
    "#displaying the ten lowest latd values\n",
    "latitude_tenlastsorted"
   ]
  },
  {
   "cell_type": "code",
   "execution_count": 11,
   "metadata": {},
   "outputs": [
    {
     "data": {
      "text/plain": [
       "32.706722223"
      ]
     },
     "execution_count": 11,
     "metadata": {},
     "output_type": "execute_result"
    }
   ],
   "source": [
    "#getting the mean of the above array\n",
    "np.mean(latitude_tenlastsorted)"
   ]
  },
  {
   "cell_type": "code",
   "execution_count": 12,
   "metadata": {},
   "outputs": [
    {
     "data": {
      "text/plain": [
       "32.8"
      ]
     },
     "execution_count": 12,
     "metadata": {},
     "output_type": "execute_result"
    }
   ],
   "source": [
    "#getting the maximum value within this array\n",
    "np.max(latitude_tenlastsorted)"
   ]
  },
  {
   "cell_type": "code",
   "execution_count": 13,
   "metadata": {},
   "outputs": [
    {
     "data": {
      "text/plain": [
       "32.57833333"
      ]
     },
     "execution_count": 13,
     "metadata": {},
     "output_type": "execute_result"
    }
   ],
   "source": [
    "#getting minimum value of the array\n",
    "np.min(latitude_tenlastsorted)"
   ]
  },
  {
   "cell_type": "code",
   "execution_count": 14,
   "metadata": {},
   "outputs": [
    {
     "data": {
      "text/plain": [
       "0.06905041513923822"
      ]
     },
     "execution_count": 14,
     "metadata": {},
     "output_type": "execute_result"
    }
   ],
   "source": [
    "#getting the standard deviation(std) of the values in the array\n",
    "np.std(latitude_tenlastsorted)"
   ]
  },
  {
   "cell_type": "code",
   "execution_count": 15,
   "metadata": {},
   "outputs": [
    {
     "data": {
      "text/plain": [
       "32.696944445"
      ]
     },
     "execution_count": 15,
     "metadata": {},
     "output_type": "execute_result"
    }
   ],
   "source": [
    "#returns the middle number of the values within the array\n",
    "np.median(latitude_tenlastsorted)"
   ]
  },
  {
   "cell_type": "code",
   "execution_count": 17,
   "metadata": {},
   "outputs": [],
   "source": [
    "#sorting the elevation_m column values to give new dataframe called elevation_sorted using sort_values()\n",
    "#by=['elevation_m] uses the elevation_m as the sort key/column\n",
    "#ascending = 1 defines the sort in ascending order\n",
    "#sorting the least 10 using the [:10]\n",
    "\n",
    "elevation_sorted=dataset.sort_values(by= ['elevation_m'],ascending=1)[:10]"
   ]
  },
  {
   "cell_type": "code",
   "execution_count": 18,
   "metadata": {},
   "outputs": [
    {
     "data": {
      "text/html": [
       "<div>\n",
       "<style scoped>\n",
       "    .dataframe tbody tr th:only-of-type {\n",
       "        vertical-align: middle;\n",
       "    }\n",
       "\n",
       "    .dataframe tbody tr th {\n",
       "        vertical-align: top;\n",
       "    }\n",
       "\n",
       "    .dataframe thead th {\n",
       "        text-align: right;\n",
       "    }\n",
       "</style>\n",
       "<table border=\"1\" class=\"dataframe\">\n",
       "  <thead>\n",
       "    <tr style=\"text-align: right;\">\n",
       "      <th></th>\n",
       "      <th>city</th>\n",
       "      <th>elevation_m</th>\n",
       "    </tr>\n",
       "  </thead>\n",
       "  <tbody>\n",
       "    <tr>\n",
       "      <th>45</th>\n",
       "      <td>Brawley</td>\n",
       "      <td>-34.00</td>\n",
       "    </tr>\n",
       "    <tr>\n",
       "      <th>81</th>\n",
       "      <td>Coachella</td>\n",
       "      <td>-20.74</td>\n",
       "    </tr>\n",
       "    <tr>\n",
       "      <th>187</th>\n",
       "      <td>Imperial</td>\n",
       "      <td>-18.00</td>\n",
       "    </tr>\n",
       "    <tr>\n",
       "      <th>123</th>\n",
       "      <td>ElCentro</td>\n",
       "      <td>-12.00</td>\n",
       "    </tr>\n",
       "    <tr>\n",
       "      <th>189</th>\n",
       "      <td>Indio</td>\n",
       "      <td>-4.00</td>\n",
       "    </tr>\n",
       "    <tr>\n",
       "      <th>181</th>\n",
       "      <td>Holtville</td>\n",
       "      <td>-3.00</td>\n",
       "    </tr>\n",
       "    <tr>\n",
       "      <th>218</th>\n",
       "      <td>LaQuinta</td>\n",
       "      <td>0.00</td>\n",
       "    </tr>\n",
       "    <tr>\n",
       "      <th>146</th>\n",
       "      <td>FosterCity</td>\n",
       "      <td>2.00</td>\n",
       "    </tr>\n",
       "    <tr>\n",
       "      <th>422</th>\n",
       "      <td>SuisunCity</td>\n",
       "      <td>2.00</td>\n",
       "    </tr>\n",
       "    <tr>\n",
       "      <th>285</th>\n",
       "      <td>NewportBeach</td>\n",
       "      <td>3.00</td>\n",
       "    </tr>\n",
       "  </tbody>\n",
       "</table>\n",
       "</div>"
      ],
      "text/plain": [
       "             city  elevation_m\n",
       "45        Brawley       -34.00\n",
       "81      Coachella       -20.74\n",
       "187      Imperial       -18.00\n",
       "123      ElCentro       -12.00\n",
       "189         Indio        -4.00\n",
       "181     Holtville        -3.00\n",
       "218      LaQuinta         0.00\n",
       "146    FosterCity         2.00\n",
       "422    SuisunCity         2.00\n",
       "285  NewportBeach         3.00"
      ]
     },
     "execution_count": 18,
     "metadata": {},
     "output_type": "execute_result"
    }
   ],
   "source": [
    "#multiple column selection using iloc indexer\n",
    "#select 2nd column,city and 5th column ,elevation_m\n",
    "#all rows will be displayed(:) but only at their intersections with mentioned columns above\n",
    "elevation_sorted.iloc[:, [1,4]]"
   ]
  },
  {
   "cell_type": "code",
   "execution_count": 19,
   "metadata": {},
   "outputs": [],
   "source": [
    "#display top 10 using [:10]\n",
    "#sort_values(by = ['population_total']) as the sort key in descending order (ascending=0)\n",
    "pop_sorted=dataset.sort_values(by= ['population_total'],ascending=0)[:10]"
   ]
  },
  {
   "cell_type": "code",
   "execution_count": 20,
   "metadata": {},
   "outputs": [
    {
     "data": {
      "text/html": [
       "<div>\n",
       "<style scoped>\n",
       "    .dataframe tbody tr th:only-of-type {\n",
       "        vertical-align: middle;\n",
       "    }\n",
       "\n",
       "    .dataframe tbody tr th {\n",
       "        vertical-align: top;\n",
       "    }\n",
       "\n",
       "    .dataframe thead th {\n",
       "        text-align: right;\n",
       "    }\n",
       "</style>\n",
       "<table border=\"1\" class=\"dataframe\">\n",
       "  <thead>\n",
       "    <tr style=\"text-align: right;\">\n",
       "      <th></th>\n",
       "      <th>city</th>\n",
       "      <th>population_total</th>\n",
       "    </tr>\n",
       "  </thead>\n",
       "  <tbody>\n",
       "    <tr>\n",
       "      <th>239</th>\n",
       "      <td>LosAngeles</td>\n",
       "      <td>3884307</td>\n",
       "    </tr>\n",
       "    <tr>\n",
       "      <th>367</th>\n",
       "      <td>SanDiego</td>\n",
       "      <td>1345895</td>\n",
       "    </tr>\n",
       "    <tr>\n",
       "      <th>375</th>\n",
       "      <td>SanJose</td>\n",
       "      <td>1000536</td>\n",
       "    </tr>\n",
       "    <tr>\n",
       "      <th>370</th>\n",
       "      <td>SanFrancisco</td>\n",
       "      <td>837442</td>\n",
       "    </tr>\n",
       "    <tr>\n",
       "      <th>150</th>\n",
       "      <td>Fresno</td>\n",
       "      <td>509039</td>\n",
       "    </tr>\n",
       "    <tr>\n",
       "      <th>359</th>\n",
       "      <td>Sacramento</td>\n",
       "      <td>466488</td>\n",
       "    </tr>\n",
       "    <tr>\n",
       "      <th>234</th>\n",
       "      <td>LongBeach</td>\n",
       "      <td>462257</td>\n",
       "    </tr>\n",
       "    <tr>\n",
       "      <th>290</th>\n",
       "      <td>Oakland</td>\n",
       "      <td>406253</td>\n",
       "    </tr>\n",
       "    <tr>\n",
       "      <th>26</th>\n",
       "      <td>Bakersfield</td>\n",
       "      <td>347483</td>\n",
       "    </tr>\n",
       "    <tr>\n",
       "      <th>9</th>\n",
       "      <td>Anaheim</td>\n",
       "      <td>336000</td>\n",
       "    </tr>\n",
       "  </tbody>\n",
       "</table>\n",
       "</div>"
      ],
      "text/plain": [
       "             city  population_total\n",
       "239    LosAngeles           3884307\n",
       "367      SanDiego           1345895\n",
       "375       SanJose           1000536\n",
       "370  SanFrancisco            837442\n",
       "150        Fresno            509039\n",
       "359    Sacramento            466488\n",
       "234     LongBeach            462257\n",
       "290       Oakland            406253\n",
       "26    Bakersfield            347483\n",
       "9         Anaheim            336000"
      ]
     },
     "execution_count": 20,
     "metadata": {},
     "output_type": "execute_result"
    }
   ],
   "source": [
    "#display city column and population_total column\n",
    "pop_sorted.iloc[:, [1,6]]"
   ]
  },
  {
   "cell_type": "code",
   "execution_count": 21,
   "metadata": {},
   "outputs": [],
   "source": [
    "#sort top ten in descending order\n",
    "#plot the relationship using area_total_km2 and population_total values in the sorted area_km2_sorted dataframe using a scatter diagram\n",
    "\n",
    "area_km2_sorted=dataset.sort_values(by = ['area_total_km2'],ascending=0)[:10]"
   ]
  },
  {
   "cell_type": "code",
   "execution_count": 22,
   "metadata": {},
   "outputs": [
    {
     "data": {
      "text/plain": [
       "Text(0,0.5,'Total population')"
      ]
     },
     "execution_count": 22,
     "metadata": {},
     "output_type": "execute_result"
    },
    {
     "data": {
      "image/png": "[encoded data removed]",
      "text/plain": [
       "<Figure size 432x288 with 1 Axes>"
      ]
     },
     "metadata": {
      "needs_background": "light"
     },
     "output_type": "display_data"
    }
   ],
   "source": [
    "model=plt.figure() #create figures\n",
    "ax=model.add_axes([0,0,1,1]) #add an axis to the figure\n",
    "\n",
    "#create a scatter plot with x,y,color and lineWidth arguments respectively\n",
    "ax.scatter(area_km2_sorted['area_total_km2'], area_km2_sorted['population_total'], color='red', lw=4) \n",
    "\n",
    "ax.set_title('Relationship of the top ten cities in terms of area in km2 with respect to its population size')\n",
    "ax.set_xlabel('Total area in km2')\n",
    "ax.set_ylabel('Total population')"
   ]
  },
  {
   "cell_type": "code",
   "execution_count": 23,
   "metadata": {},
   "outputs": [],
   "source": [
    "elevationft_sorted=dataset.sort_values(by = ['elevation_ft'],ascending=0)[:10]"
   ]
  },
  {
   "cell_type": "code",
   "execution_count": 24,
   "metadata": {},
   "outputs": [
    {
     "data": {
      "image/png": "[encoded data removed]",
      "text/plain": [
       "<Figure size 1152x360 with 1 Axes>"
      ]
     },
     "metadata": {
      "needs_background": "light"
     },
     "output_type": "display_data"
    }
   ],
   "source": [
    "fig=plt.figure(figsize=(16,5)) #specify figure size while plotting\n",
    "ax=fig.gca() #get the current axes instance on the current figure\n",
    "\n",
    "ax.plot(elevationft_sorted['city'],elevationft_sorted['population_total'], '-.', label=\"$Population Totals$\")\n",
    "ax.plot(elevationft_sorted['city'],elevationft_sorted['elevation_ft'], '-.', label=\"$Elevation$\")\n",
    "\n",
    "plt.legend(loc =\"upper left\")\n",
    "plt.title(\"Relationship of the top ten cities in terms of elevation in feet with their respective population totals\")\n",
    "plt.xlabel(\"City\")\n",
    "plt.ylabel(\"Population totals and Elevation in feet\")\n",
    "\n",
    "plt.show()"
   ]
  },
  {
   "cell_type": "code",
   "execution_count": 25,
   "metadata": {},
   "outputs": [
    {
     "data": {
      "text/plain": [
       "Text(0,0.5,'Frequency')"
      ]
     },
     "execution_count": 25,
     "metadata": {},
     "output_type": "execute_result"
    },
    {
     "data": {
      "image/png": "[encoded data removed]",
      "text/plain": [
       "<Figure size 432x288 with 1 Axes>"
      ]
     },
     "metadata": {
      "needs_background": "light"
     },
     "output_type": "display_data"
    }
   ],
   "source": [
    "#plot histogram\n",
    "dataset['area_total_sq_mi'].hist(bins =20)#number of edges on the histogram\n",
    "plt.xlabel('Total area in square miles')\n",
    "plt.ylabel('Frequency')"
   ]
  },
  {
   "cell_type": "code",
   "execution_count": 26,
   "metadata": {},
   "outputs": [
    {
     "data": {
      "text/plain": [
       "Text(0,0.5,'Frequency')"
      ]
     },
     "execution_count": 26,
     "metadata": {},
     "output_type": "execute_result"
    },
    {
     "data": {
      "image/png": "[encoded data removed]",
      "text/plain": [
       "<Figure size 432x288 with 1 Axes>"
      ]
     },
     "metadata": {
      "needs_background": "light"
     },
     "output_type": "display_data"
    }
   ],
   "source": [
    "dataset['area_total_sq_mi']=np.log(dataset['area_total_sq_mi']) #normalize the values\n",
    "dataset['area_total_sq_mi'].hist(bins =20)\n",
    "plt.xlabel('Total area in square miles')\n",
    "plt.ylabel('Frequency')                                "
   ]
  },
  {
   "cell_type": "code",
   "execution_count": 27,
   "metadata": {},
   "outputs": [
    {
     "data": {
      "image/png": "[encoded data removed]",
      "text/plain": [
       "<Figure size 432x288 with 1 Axes>"
      ]
     },
     "metadata": {
      "needs_background": "light"
     },
     "output_type": "display_data"
    }
   ],
   "source": [
    "dataset.plot(x = 'area_total_sq_mi',y = 'population_total', style= '*')\n",
    "plt.xlabel('Total area in square miles')\n",
    "plt.ylabel('Total population')\n",
    "plt.show()"
   ]
  },
  {
   "cell_type": "code",
   "execution_count": 28,
   "metadata": {},
   "outputs": [
    {
     "data": {
      "text/plain": [
       "(322, 3)"
      ]
     },
     "execution_count": 28,
     "metadata": {},
     "output_type": "execute_result"
    }
   ],
   "source": [
    "#fit data into a linear regression model\n",
    "X=dataset[['elevation_ft','area_total_sq_mi','area_land_sq_mi']]\n",
    "y=dataset['population_total']\n",
    "\n",
    "from sklearn.model_selection import train_test_split #split data into training and test data\n",
    "X_train, X_test, Y_train, Y_test =train_test_split(X,y, test_size=0.33, random_state=101)\n",
    "\n",
    "X_train.shape #number of X training data"
   ]
  },
  {
   "cell_type": "code",
   "execution_count": 29,
   "metadata": {},
   "outputs": [
    {
     "data": {
      "text/plain": [
       "LinearRegression(copy_X=True, fit_intercept=True, n_jobs=1, normalize=False)"
      ]
     },
     "execution_count": 29,
     "metadata": {},
     "output_type": "execute_result"
    }
   ],
   "source": [
    "from sklearn.linear_model import LinearRegression\n",
    "regr = LinearRegression()\n",
    "regr.fit(X_train, Y_train) #fit the linear  model"
   ]
  },
  {
   "cell_type": "code",
   "execution_count": 30,
   "metadata": {},
   "outputs": [
    {
     "name": "stdout",
     "output_type": "stream",
     "text": [
      "58100.94791366925\n"
     ]
    }
   ],
   "source": [
    "print(regr.intercept_) #Independent term in the linear model."
   ]
  },
  {
   "cell_type": "code",
   "execution_count": 31,
   "metadata": {},
   "outputs": [],
   "source": [
    "y_pred=regr.predict(X_test) #Predict using the linear model"
   ]
  },
  {
   "cell_type": "code",
   "execution_count": 32,
   "metadata": {},
   "outputs": [
    {
     "data": {
      "text/plain": [
       "39418.92190224321"
      ]
     },
     "execution_count": 32,
     "metadata": {},
     "output_type": "execute_result"
    }
   ],
   "source": [
    "#Evaluating performance model\n",
    "from sklearn import metrics\n",
    "metrics.mean_absolute_error(Y_test, y_pred)\n"
   ]
  },
  {
   "cell_type": "code",
   "execution_count": 33,
   "metadata": {},
   "outputs": [
    {
     "data": {
      "text/plain": [
       "3585707225.855015"
      ]
     },
     "execution_count": 33,
     "metadata": {},
     "output_type": "execute_result"
    }
   ],
   "source": [
    "metrics.mean_squared_error(Y_test, y_pred)"
   ]
  },
  {
   "cell_type": "code",
   "execution_count": 34,
   "metadata": {},
   "outputs": [
    {
     "data": {
      "text/plain": [
       "array([-3.51547242e+01, -3.85575752e+04,  6.32486373e+03])"
      ]
     },
     "execution_count": 34,
     "metadata": {},
     "output_type": "execute_result"
    }
   ],
   "source": [
    "regr.coef_ #Estimated coefficients for the linear regression problem"
   ]
  },
  {
   "cell_type": "code",
   "execution_count": null,
   "metadata": {},
   "outputs": [],
   "source": []
  }
 ],
 "metadata": {
  "kernelspec": {
   "display_name": "Python 3",
   "language": "python",
   "name": "python3"
  },
  "language_info": {
   "codemirror_mode": {
    "name": "ipython",
    "version": 3
   },
   "file_extension": ".py",
   "mimetype": "text/x-python",
   "name": "python",
   "nbconvert_exporter": "python",
   "pygments_lexer": "ipython3",
   "version": "3.7.0"
  }
 },
 "nbformat": 4,
 "nbformat_minor": 2
}
